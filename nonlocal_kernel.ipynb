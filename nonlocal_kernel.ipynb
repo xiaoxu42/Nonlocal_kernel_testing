{
 "cells": [
  {
   "cell_type": "code",
   "execution_count": 114,
   "metadata": {},
   "outputs": [],
   "source": [
    "import numpy as np\n",
    "import scipy.integrate as integrate\n",
    "import matplotlib\n",
    "import matplotlib.pyplot as plt\n",
    "#%matplotlib inline\n",
    "\n",
    "import matplotlib.pyplot as plt\n",
    "\n",
    "class Kernel_calculator():\n",
    "    \n",
    "    # This is a class that is used to calculate the discrete nonlocal model of any order by the method that is described\n",
    "    # in my paper\n",
    "    \n",
    "    def __init__(self,Eh,Es,rhoh,rhos):\n",
    "        \n",
    "        # material mechanic properties\n",
    "        self.Eh = Eh\n",
    "        self.Es = Es\n",
    "        self.rhoh = rhoh\n",
    "        self.rhos = rhos\n",
    "        \n",
    "        \n",
    "        # material geometric properties right now we don't plan to change the geometry of the microstructure\n",
    "        self.alpha = 0.25\n",
    "        self.beta = 0.5\n",
    "        self.l = 0.02\n",
    "        \n",
    "    def lineq_solver(self,xi,order):\n",
    "        \n",
    "        #Use least square to solve Ax=b in the microstructure of the material\n",
    "        \n",
    "        # Right now only when order is an even number and <= 6, this works pretty well *************\n",
    "        \n",
    "        N = 1+3*(order+1)\n",
    "        A = np.zeros((N,N),dtype=np.complex)\n",
    "        b = np.zeros(N)\n",
    "        alpha = self.alpha\n",
    "        beta = self.beta\n",
    "        l = self.l\n",
    "        \n",
    "        Eh = self.Eh/self.Es # since only the ratio matters, this will make computation better\n",
    "        Es = 1\n",
    "        rhoh = self.rhoh\n",
    "        rhos = self.rhos\n",
    "        #initiate first several equations at the interfaces\n",
    "        A[0,0] = alpha\n",
    "        A[0,order+1] = beta\n",
    "        A[0,2*order+3] = alpha\n",
    "        b[0] = 1\n",
    "        \n",
    "        for i in range(order+1):\n",
    "            A[0,i] = alpha**(i+1)*l**i/(i+1)\n",
    "            A[0,2*order+3+i] = alpha**(i+1)*l**i/(i+1)\n",
    "        \n",
    "        for i in range(order+2):\n",
    "            A[0,order+1+i] = beta**(i+1)*l**i/(i+1)\n",
    "            \n",
    "        A[1,0] = -np.exp(1j*2*np.pi*l*xi)\n",
    "        A[2*order+3,2*order+3] = -1\n",
    "        A[order+2,order+1] = -1\n",
    "        \n",
    "        for i in range(order+1):\n",
    "            A[1,2*order+3+i] = alpha**i*l**i\n",
    "            A[order+2,i] = alpha**i*l**i\n",
    "            \n",
    "        for i in range(order+2):\n",
    "            A[2*order+3,order+1+i] = beta**i*l**i\n",
    "            \n",
    "        \n",
    "        # then iterate to generate the result of the linear equations\n",
    "            \n",
    "        for i in range(order):\n",
    "            A[i+2,i+1] = A[i+1,i]*(i+1)\n",
    "            for k in range(i+1,order+1):\n",
    "                A[i+2,2*order+3+k] = A[i+1,2*order+3+k]*(k-i)/alpha/l\n",
    "        \n",
    "        for i in range(order):\n",
    "            if i%2 == 0:\n",
    "                Erhoh = Eh\n",
    "                Erhos = Es\n",
    "            else:\n",
    "                Erhoh = 1./rhoh\n",
    "                Erhos = 1./rhos\n",
    "            \n",
    "            A[2*order+4+i,2*order+4+i] = Erhoh*A[2*order+3+i,2*order+3+i]*(i+1)\n",
    "            for k in range(i+1,order+2):\n",
    "                A[2*order+4+i,order+1+k] = Erhos*A[2*order+3+i,order+1+k]*(k-i)/beta/l\n",
    "        \n",
    "        for i in range(order):\n",
    "            if i%2 == 0:\n",
    "                Erhoh = Eh\n",
    "                Erhos = Es\n",
    "            else:\n",
    "                Erhoh = 1./rhoh\n",
    "                Erhos = 1./rhos\n",
    "            \n",
    "            A[order+3+i,order+2+i] = Erhos*A[order+2+i,order+1+i]*(i+1)\n",
    "            for k in range(i+1,order+1):\n",
    "                A[order+3+i,k] = Erhoh*A[order+2+i,k]*(k-i)/alpha/l\n",
    "                \n",
    "        sol = np.linalg.lstsq(A,b,rcond=-1)\n",
    "                \n",
    "        return sol\n",
    "    \n",
    "    def fitting_kernel_formular(self,order):\n",
    "        \n",
    "        # Since matrix A in lineq_solver could be rank-deficient if xi is around 1/(2l), therefore we cannot directly use\n",
    "        # the function lineq_solver to do the integration to find out the Fourier coefficients. But we are fortunate\n",
    "        # enought to know the general symbolic expression for the result. Therefore, we do a formular fitting to avoid\n",
    "        # the matrix being singular in lineq_solver\n",
    "        \n",
    "        oorder = 2*int((order+1)/2) # tempory vairable for treating the odd number of order the same way as even number order\n",
    "        \n",
    "        N = oorder+1  # number of coefficients in the formular that needs to be fitted\n",
    "        xi = np.linspace(0,1/(1+2**(order/2))/self.l,2*N) # the number of samples that I pick is 8N inside the interval, the upper bond may not be the best upper bond****\n",
    "        # more comments: by some testing, the upper bond may even depend on the value of rhoh, rhos due to numerical accuracy\n",
    "        # This sample picking process still needs a lot of improvement in order to be robust**************Right now it seems to work fine for rho=8000\n",
    "        \n",
    "        # Since we know the exact form of the formluar, we don't need optimization to do the fitting, we can simply solve\n",
    "        # an overdetermined linear equations system.\n",
    "        \n",
    "        #Constructing the A in Ax=b, where A is 2N*N\n",
    "        A = np.zeros((2*N,N))\n",
    "        b = np.zeros(2*N)\n",
    "        for i in range(2*N):\n",
    "            x = xi[i]\n",
    "            \n",
    "            kernel_sol = 0 # kernel_sol will be the exact result of the kernel calculated by lineq_solver\n",
    "            \n",
    "            # extracting the final result of kernel from the solution of lineq_solver\n",
    "            sol = self.lineq_solver(x,order)[0]\n",
    "            for k in range(1,order):\n",
    "                kernel_sol += (k+1)*(self.rhos/self.rhoh)*(sol[k+1]+sol[2*order+4+k])*(self.alpha*self.l)**k\n",
    "            \n",
    "            for k in range(1,order+1):\n",
    "                kernel_sol += (k+1)*(self.Es/self.Eh)*sol[order+2+k]*(self.beta*self.l)**k\n",
    "            \n",
    "            real_kernel_sol = kernel_sol.real\n",
    "                \n",
    "            #assigning values to A              \n",
    "            for k in range(int(oorder/2+1)):\n",
    "                A[i,k] = np.cos(2*np.pi*self.l*x*k)\n",
    "            \n",
    "            for k in range(int(oorder/2)):\n",
    "                A[i,k+int(oorder/2)+1] = -np.cos(2*np.pi*self.l*x*k)*real_kernel_sol\n",
    "            \n",
    "            b[i] = np.cos(2*np.pi*self.l*x*(oorder/2))*real_kernel_sol\n",
    "        \n",
    "        kernel_coeff = np.linalg.lstsq(A,b,rcond=-1) # use least square to sovle this overdetermine linear equations\n",
    "        \n",
    "        return kernel_coeff\n",
    "    \n",
    "    def fourier_kernel_func(self,xi,order,n):\n",
    "        \n",
    "        # This is the function of plugging the kernel_coeff calculated by fitting_kernel_formular into the formular of\n",
    "        # kernel. And then times cos(2pi l xi) to prepare for the integration to calculate the fouriers coeffecients\n",
    "        # eventually\n",
    "        \n",
    "        func = 0\n",
    "        oorder = 2*int((order+1)/2) # tempory vairable for treating the odd number of order the same way as even number order\n",
    "        temp = np.cos(2*np.pi*self.l*xi*(int(oorder/2))) # temporary variable for calculating the denominator\n",
    "        coeff = self.fitting_kernel_formular(order)[0]\n",
    "        for i in range(int(oorder/2)+1):\n",
    "            func += coeff[i]*np.cos(2*np.pi*self.l*xi*i) #calculating the numerator\n",
    "        \n",
    "        for i in range(int(oorder/2)):\n",
    "            temp += coeff[i+int(order/2)+1]*np.cos(2*np.pi*self.l*xi*i) #calculating the denominator\n",
    "            \n",
    "        return func/temp*np.cos(2*np.pi*n*self.l*xi)\n",
    "            \n",
    "\n",
    "    def discrete_kernel_calculator(self, order, n):\n",
    "        \n",
    "        #integration to calculatet the discrete_kernel\n",
    "        \n",
    "        discrete_kernel = integrate.quad(self.fourier_kernel_func,0,1/self.l, args=(order,n))\n",
    "        \n",
    "        return discrete_kernel\n",
    "    \n",
    "    def plot_test(self,order,n):\n",
    "        \n",
    "        # This is used to plot for testing the fourier_kernel_func that needs to be integrated to get the discrete kernel.\n",
    "        # If there are singularities in the plots, then some parameters in the fitting function have to be changed\n",
    "        \n",
    "        x = np.linspace(0,1/self.l,1000)\n",
    "        size = np.size(x)\n",
    "        y = np.linspace(0,1/self.l,1000)\n",
    "        for i in range(size):\n",
    "            y[i] = self.fourier_kernel_func(x[i],order,n)/np.cos(2*np.pi*n*self.l*x[i])\n",
    "        plt.plot(x,y)\n",
    "        \n",
    "    def kernel_generator(self,order,tolerance):\n",
    "        \n",
    "        # This is used to directly generate an array of discrete kernel that can be directly used for simulation\n",
    "        \n",
    "        # assign first 2 dicrete value to any order of the kernel\n",
    "        nonlocal_kernel = np.zeros(2)\n",
    "        for i in range(2):\n",
    "            nonlocal_kernel[i] = self.discrete_kernel_calculator(order,i+1)[0]\n",
    "            \n",
    "        ratio = 1\n",
    "        i = 2\n",
    "        # if the ratio is too big then it means we need include more discrete kernels\n",
    "        while ratio > 1e-3: \n",
    "            # we assign at least 4 discrete kernels in total\n",
    "            nonlocal_kernel = np.append(nonlocal_kernel,self.discrete_kernel_calculator(order,i+1)[0])\n",
    "            nonlocal_kernel = np.append(nonlocal_kernel,self.discrete_kernel_calculator(order,i+2)[0])\n",
    "            ratio = nonlocal_kernel[i]/nonlocal_kernel[0]\n",
    "            i+=2\n",
    "        \n",
    "        return nonlocal_kernel\n",
    "        \n",
    "    \n",
    "        \n",
    "        \n"
   ]
  },
  {
   "cell_type": "code",
   "execution_count": 115,
   "metadata": {},
   "outputs": [],
   "source": [
    "mytest = Kernel_calculator(200,5,8000,8000)"
   ]
  },
  {
   "cell_type": "code",
   "execution_count": 117,
   "metadata": {},
   "outputs": [
    {
     "data": {
      "text/plain": [
       "(14.831099289810913, 4.8328518366349724e-12)"
      ]
     },
     "execution_count": 117,
     "metadata": {},
     "output_type": "execute_result"
    }
   ],
   "source": [
    "mytest.discrete_kernel_calculator(3,2)"
   ]
  },
  {
   "cell_type": "code",
   "execution_count": 125,
   "metadata": {},
   "outputs": [
    {
     "data": {
      "image/png": "[encoded data removed]",
      "text/plain": [
       "<Figure size 432x288 with 1 Axes>"
      ]
     },
     "metadata": {},
     "output_type": "display_data"
    }
   ],
   "source": [
    "mytest.plot_test(6,1)"
   ]
  },
  {
   "cell_type": "code",
   "execution_count": 123,
   "metadata": {},
   "outputs": [
    {
     "data": {
      "image/png": "[encoded data removed]",
      "text/plain": [
       "<Figure size 432x288 with 1 Axes>"
      ]
     },
     "metadata": {},
     "output_type": "display_data"
    }
   ],
   "source": [
    "mytest.plot_test(4,2)"
   ]
  },
  {
   "cell_type": "code",
   "execution_count": 119,
   "metadata": {},
   "outputs": [
    {
     "data": {
      "image/png": "[encoded data removed]",
      "text/plain": [
       "<Figure size 432x288 with 1 Axes>"
      ]
     },
     "metadata": {},
     "output_type": "display_data"
    }
   ],
   "source": [
    "mytest.plot_test(3,2)"
   ]
  },
  {
   "cell_type": "code",
   "execution_count": 121,
   "metadata": {},
   "outputs": [
    {
     "data": {
      "image/png": "[encoded data removed]",
      "text/plain": [
       "<Figure size 432x288 with 1 Axes>"
      ]
     },
     "metadata": {},
     "output_type": "display_data"
    }
   ],
   "source": [
    "mytest.plot_test(2,1)"
   ]
  },
  {
   "cell_type": "code",
   "execution_count": 118,
   "metadata": {},
   "outputs": [
    {
     "data": {
      "text/plain": [
       "(array([-131.99282949,   61.90968101,   70.08314848,   35.37737145,\n",
       "          33.78229491]),\n",
       " array([6.01130962e-18]),\n",
       " 5,\n",
       " array([1.03374034e+01, 3.60917183e+00, 1.89713670e+00, 1.90901440e-02,\n",
       "        3.89306199e-04]))"
      ]
     },
     "execution_count": 118,
     "metadata": {},
     "output_type": "execute_result"
    }
   ],
   "source": [
    "mytest.fitting_kernel_formular(3)"
   ]
  },
  {
   "cell_type": "code",
   "execution_count": 106,
   "metadata": {},
   "outputs": [
    {
     "data": {
      "text/plain": [
       "(array([-1445.02008949,  1334.97085369,   110.04923575,   274.85730432,\n",
       "           88.05209479]),\n",
       " array([7.26937195e-14]),\n",
       " 5,\n",
       " array([6.97255597e+00, 3.42464879e+00, 6.93086681e-01, 4.79425080e-03,\n",
       "        1.74169553e-06]))"
      ]
     },
     "execution_count": 106,
     "metadata": {},
     "output_type": "execute_result"
    }
   ],
   "source": [
    "mytest.fitting_kernel_formular(4)"
   ]
  },
  {
   "cell_type": "code",
   "execution_count": 113,
   "metadata": {},
   "outputs": [
    {
     "data": {
      "text/plain": [
       "(array([ 9.99622673e-01-6.28909279e-02j,  1.92520431e-02+3.06002462e-01j,\n",
       "        -9.61913399e-01+6.05184614e-02j, -6.19105506e-03-9.84040023e-02j,\n",
       "         9.99694885e-01-6.13594149e-02j,  3.85297790e-01+1.22640107e+01j,\n",
       "        -3.84802506e+01+2.36169606e+00j, -9.90568810e+00-1.57446404e+02j,\n",
       "         4.95284405e+02+5.58861042e-11j,  9.99694885e-01+6.13594149e-02j,\n",
       "        -9.63244476e-03+3.06600266e-01j, -9.62006265e-01-5.90424014e-02j,\n",
       "         6.19105506e-03-9.84040023e-02j]),\n",
       " array([], dtype=float64),\n",
       " 13,\n",
       " array([4.00278551e+01, 4.00241374e+01, 8.56974356e+00, 2.82846108e+00,\n",
       "        1.75943838e+00, 1.71750613e+00, 1.19995932e+00, 5.74126122e-01,\n",
       "        1.75287628e-02, 6.09156136e-03, 5.51126031e-04, 6.93940189e-05,\n",
       "        1.64272179e-06]))"
      ]
     },
     "execution_count": 113,
     "metadata": {},
     "output_type": "execute_result"
    }
   ],
   "source": [
    "mytest.lineq_solver(1,3)"
   ]
  },
  {
   "cell_type": "code",
   "execution_count": null,
   "metadata": {},
   "outputs": [],
   "source": []
  }
 ],
 "metadata": {
  "kernelspec": {
   "display_name": "Python 3",
   "language": "python",
   "name": "python3"
  },
  "language_info": {
   "codemirror_mode": {
    "name": "ipython",
    "version": 3
   },
   "file_extension": ".py",
   "mimetype": "text/x-python",
   "name": "python",
   "nbconvert_exporter": "python",
   "pygments_lexer": "ipython3",
   "version": "3.6.5"
  }
 },
 "nbformat": 4,
 "nbformat_minor": 2
}
