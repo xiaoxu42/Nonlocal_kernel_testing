{
 "cells": [
  {
   "cell_type": "code",
   "execution_count": 3,
   "metadata": {},
   "outputs": [
    {
     "name": "stdout",
     "output_type": "stream",
     "text": [
      "generating ./explicit_time_api.c\n",
      "the current directory is '/Users/xiao/Documents/CFR/Nonlocal_kernel_testing'\n",
      "running build_ext\n",
      "building 'explicit_time_api' extension\n",
      "gcc -Wno-unused-result -Wsign-compare -Wunreachable-code -DNDEBUG -g -fwrapv -O3 -Wall -Wstrict-prototypes -I/Users/xiao/anaconda3/include -arch x86_64 -I/Users/xiao/anaconda3/include -arch x86_64 -I/Users/xiao/anaconda3/include/python3.6m -c explicit_time_api.c -o ./explicit_time_api.o\n",
      "gcc -Wno-unused-result -Wsign-compare -Wunreachable-code -DNDEBUG -g -fwrapv -O3 -Wall -Wstrict-prototypes -I/Users/xiao/anaconda3/include -arch x86_64 -I/Users/xiao/anaconda3/include -arch x86_64 -I/Users/xiao/anaconda3/include/python3.6m -c explicit_time.c -o ./explicit_time.o\n",
      "gcc -bundle -undefined dynamic_lookup -L/Users/xiao/anaconda3/lib -arch x86_64 -L/Users/xiao/anaconda3/lib -arch x86_64 -arch x86_64 ./explicit_time_api.o ./explicit_time.o -o ./explicit_time_api.cpython-36m-darwin.so\n"
     ]
    }
   ],
   "source": [
    "from cffi import FFI\n",
    "ffibuilder = FFI()\n",
    "\n",
    "ffibuilder.set_source(\"explicit_time_api\",\n",
    "                     r\"\"\"\n",
    "                     void explicit_time(double *u, int N, int Tsteps, const double kernel0, const double *kernel, const int horizon, const double E, const double rho, const double dt, const double *loadfunc);\n",
    "                     \"\"\",sources=['./explicit_time.c']\n",
    "                     )\n",
    "\n",
    "ffibuilder.cdef(\"\"\"\n",
    "    void explicit_time(double *u, int N, int Tsteps, const double kernel0, const double *kernel, const int horizon, const double E, const double rho, const double dt, const double *loadfunc);\n",
    "    \"\"\")\n",
    "\n",
    "if __name__ == \"__main__\":\n",
    "    ffibuilder.compile(verbose=True)"
   ]
  }
 ],
 "metadata": {
  "kernelspec": {
   "display_name": "Python 3",
   "language": "python",
   "name": "python3"
  },
  "language_info": {
   "codemirror_mode": {
    "name": "ipython",
    "version": 3
   },
   "file_extension": ".py",
   "mimetype": "text/x-python",
   "name": "python",
   "nbconvert_exporter": "python",
   "pygments_lexer": "ipython3",
   "version": "3.6.5"
  }
 },
 "nbformat": 4,
 "nbformat_minor": 2
}
