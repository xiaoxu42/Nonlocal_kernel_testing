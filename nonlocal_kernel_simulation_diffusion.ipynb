{
 "cells": [
  {
   "cell_type": "code",
   "execution_count": 1,
   "metadata": {},
   "outputs": [],
   "source": [
    "import numpy as np\n",
    "from numba import njit"
   ]
  },
  {
   "cell_type": "code",
   "execution_count": 2,
   "metadata": {},
   "outputs": [],
   "source": [
    "@njit\n",
    "def diffusion_iteration(u,kernel0,kernel,E,rho,t,dt,loadfunc):\n",
    "    \n",
    "    N, Tsteps = u.shape\n",
    "    ut1 = np.zeros(N)\n",
    "    ut2 = np.zeros(N)\n",
    "    horizon = np.s ize(kernel)\n",
    "    for tt in range(Tsteps-1):\n",
    "        for i in range(horizon,N-horizon):\n",
    "            temp = -kernel0*u[i,tt] # temporary variable\n",
    "            \n",
    "            for k in range(horizon):\n",
    "                temp += kernel[k]*(u[i+k+1,tt]+u[i-k-1,tt])\n",
    "            \n",
    "            # use the explicit finite difference for time\n",
    "            ut2[i] = E/rho*temp\n",
    "            u[i,tt+1] = u[i,tt] + dt*(ut1[i]+ut2[i])/2\n",
    "            ut1[i] = ut2[i]\n",
    "        \n",
    "            # BC at the fixed end\n",
    "        for i in range(horizon):\n",
    "            u[i,tt+1]= -u[2*horizon-1-i,tt+1]\n",
    "        \n",
    "            # BC with displacement load\n",
    "        for i in range(N-horizon,N):\n",
    "            P = loadfunc(t[tt])\n",
    "            u[i,tt+1] = 2*P-u[2*(N-horizon)-1-i,tt+1]\n",
    "            \n",
    "    return\n",
    "\n",
    "\n",
    "class simulator_1D():\n",
    "    \n",
    "    def __init__(self,E,rho,loadfunc,Ttotal,dt,Nnodes):\n",
    "        self.E = E\n",
    "        self.rho = rho\n",
    "        self.loadfunc = loadfunc\n",
    "        self.Ttotal = Ttotal\n",
    "        self.dt = dt\n",
    "        self.Nnodes = Nnodes\n",
    "        \n",
    "        \n",
    "    def nonlocal_kernel_sim(self,kernel):\n",
    "    \n",
    "        # This is the function that use the given nonlocal kernel and the given material properties and the displacement\n",
    "        # BC to do a simulation on 1-D elastic dynamic equation\n",
    "        \n",
    "        E = self.E\n",
    "        rho = self.rho\n",
    "        loadfunc = self.loadfunc\n",
    "        Ttotal = self.Ttotal\n",
    "        dt = self.dt\n",
    "        Nnodes = self.Nnodes\n",
    "    \n",
    "        horizon = np.size(kernel)\n",
    "        self.horizon = horizon\n",
    "        kernel0 = 2*np.sum(kernel) # for symmetric kernel only\n",
    "        Tsteps = int(Ttotal/dt)\n",
    "        N = Nnodes+2*horizon # add some nodes at the boundaries for nonlocal BCs\n",
    "        self.nonlocal_N = N\n",
    "        u = np.zeros((N,Tsteps),dtype=np.double)\n",
    "        t = np.linspace(0,Ttotal,Tsteps)\n",
    "        self.t = t\n",
    "    \n",
    "        # some arrays for storing velocity and acceleration  \n",
    "        \n",
    "        diffusion_iteration(u,kernel0,kernel,E,rho,t,dt,loadfunc)\n",
    "        \n",
    "        \n",
    "        ut1 = np.zeros(N)\n",
    "        ut2 = np.zeros(N)\n",
    "        \n",
    "        \n",
    "\n",
    "\n",
    "        \"\"\"\"\n",
    "        for tt in range(Tsteps-1):\n",
    "            for i in range(horizon,N-horizon):\n",
    "                temp = -kernel0*u[i,tt] # temporary variable\n",
    "            \n",
    "                for k in range(horizon):\n",
    "                    temp += kernel[k]*(u[i+k+1,tt]+u[i-k-1,tt])\n",
    "            \n",
    "                # use the explicit finite difference for time\n",
    "                ut2[i] = E/rho*temp\n",
    "                u[i,tt+1] = u[i,tt] + dt*(ut1[i]+ut2[i])/2\n",
    "                ut1[i] = ut2[i]\n",
    "        \n",
    "            # BC at the fixed end\n",
    "            for i in range(horizon):\n",
    "                u[i,tt+1]= -u[2*horizon-1-i,tt+1]\n",
    "        \n",
    "            # BC with displacement load\n",
    "            for i in range(N-horizon,N):\n",
    "                P = loadfunc(t[tt])\n",
    "                u[i,tt+1] = 2*P-u[2*(N-horizon)-1-i,tt+1]\n",
    "        \"\"\"\n",
    "    \n",
    "        return u\n",
    "    \n",
    "    def nonlocal_kernel_middisplacement(self,kernel):\n",
    "        \n",
    "        # This function returns only the displacement at the midpoint of the rod\n",
    "        \n",
    "        u = self.nonlocal_kernel_sim(kernel)\n",
    "        umid = (u[int(self.nonlocal_N/2),:]+u[int(self.nonlocal_N/2-1),:])/2\n",
    "        \n",
    "        return umid\n",
    "    \n",
    "    \n",
    "\n",
    "\n",
    "        \n",
    "    "
   ]
  },
  {
   "cell_type": "code",
   "execution_count": 3,
   "metadata": {},
   "outputs": [],
   "source": [
    "x = np.zeros((3,5))"
   ]
  },
  {
   "cell_type": "code",
   "execution_count": 4,
   "metadata": {},
   "outputs": [
    {
     "data": {
      "text/plain": [
       "15"
      ]
     },
     "execution_count": 4,
     "metadata": {},
     "output_type": "execute_result"
    }
   ],
   "source": [
    "np.size(x)"
   ]
  },
  {
   "cell_type": "code",
   "execution_count": 10,
   "metadata": {},
   "outputs": [],
   "source": [
    "kernel = np.array([ 1.61341853e+02, -1.14752190e+01,  8.16159280e-01, -5.80482142e-02,\n",
    "        4.12859996e-03, -2.93641034e-04])"
   ]
  },
  {
   "cell_type": "code",
   "execution_count": 11,
   "metadata": {},
   "outputs": [],
   "source": [
    "np.size(kernel)\n",
    "def displacement_load(t):\n",
    "    T = 1570\n",
    "    P0 = -50e3\n",
    "    b0 = 1e-17\n",
    "    #load = P0*b0\n",
    "    load = P0*b0*t**6*(t-T)**6*(1-np.heaviside(t-T,0))\n",
    "    return load"
   ]
  },
  {
   "cell_type": "code",
   "execution_count": 12,
   "metadata": {},
   "outputs": [],
   "source": [
    "mytest = simulator_1D(1.1089e-7,6.8948e-4, displacement_load,100000,1,50)"
   ]
  },
  {
   "cell_type": "code",
   "execution_count": 13,
   "metadata": {},
   "outputs": [
    {
     "ename": "TypingError",
     "evalue": "Failed at nopython (nopython frontend)\nInternal error at <numba.typeinfer.ArgConstraint object at 0x6127f0c18>:\n--%<----------------------------------------------------------------------------\nTraceback (most recent call last):\n  File \"/Users/xiao/anaconda3/lib/python3.6/site-packages/numba/errors.py\", line 491, in new_error_context\n    yield\n  File \"/Users/xiao/anaconda3/lib/python3.6/site-packages/numba/typeinfer.py\", line 194, in __call__\n    assert ty.is_precise()\nAssertionError\n\nDuring handling of the above exception, another exception occurred:\n\nTraceback (most recent call last):\n  File \"/Users/xiao/anaconda3/lib/python3.6/site-packages/numba/typeinfer.py\", line 138, in propagate\n    constraint(typeinfer)\n  File \"/Users/xiao/anaconda3/lib/python3.6/site-packages/numba/typeinfer.py\", line 195, in __call__\n    typeinfer.add_type(self.dst, ty, loc=self.loc)\n  File \"/Users/xiao/anaconda3/lib/python3.6/contextlib.py\", line 99, in __exit__\n    self.gen.throw(type, value, traceback)\n  File \"/Users/xiao/anaconda3/lib/python3.6/site-packages/numba/errors.py\", line 499, in new_error_context\n    six.reraise(type(newerr), newerr, tb)\n  File \"/Users/xiao/anaconda3/lib/python3.6/site-packages/numba/six.py\", line 659, in reraise\n    raise value\nnumba.errors.InternalError: \u001b[33m\u001b[1m\u001b[33m\u001b[1m\u001b[0m\n\u001b[0m\u001b[37m\u001b[1m[1] During: typing of argument at <ipython-input-2-4ae226e285fb> (4)\u001b[0m\n--%<----------------------------------------------------------------------------\n\n\u001b[37m\u001b[1m\nFile \"<ipython-input-2-4ae226e285fb>\", line 4:\u001b[0m\n\u001b[34m\u001b[1mdef diffusion_iteration(u,kernel0,kernel,E,rho,t,dt,loadfunc):\n    <source elided>\n    \n\u001b[31m\u001b[1m    N, Tsteps = u.shape\n\u001b[0m    \u001b[32m\u001b[1m^\u001b[0m\u001b[0m\n\nThis error may have been caused by the following argument(s):\n- argument 7: \u001b[33m\u001b[1mcannot determine Numba type of <class 'function'>\u001b[0m\n\nThis is not usually a problem with Numba itself but instead often caused by\nthe use of unsupported features or an issue in resolving types.\n\nTo see Python/NumPy features supported by the latest release of Numba visit:\nhttp://numba.pydata.org/numba-doc/dev/reference/pysupported.html\nand\nhttp://numba.pydata.org/numba-doc/dev/reference/numpysupported.html\n\nFor more information about typing errors and how to debug them visit:\nhttp://numba.pydata.org/numba-doc/latest/user/troubleshoot.html#my-code-doesn-t-compile\n\nIf you think your code should work with Numba, please report the error message\nand traceback, along with a minimal reproducer at:\nhttps://github.com/numba/numba/issues/new\n",
     "output_type": "error",
     "traceback": [
      "\u001b[0;31m---------------------------------------------------------------------------\u001b[0m",
      "\u001b[0;31mTypingError\u001b[0m                               Traceback (most recent call last)",
      "\u001b[0;32m<ipython-input-13-cf430eef0de3>\u001b[0m in \u001b[0;36m<module>\u001b[0;34m()\u001b[0m\n\u001b[0;32m----> 1\u001b[0;31m \u001b[0mmytest\u001b[0m\u001b[0;34m.\u001b[0m\u001b[0mnonlocal_kernel_sim\u001b[0m\u001b[0;34m(\u001b[0m\u001b[0mkernel\u001b[0m\u001b[0;34m)\u001b[0m\u001b[0;34m\u001b[0m\u001b[0m\n\u001b[0m",
      "\u001b[0;32m<ipython-input-2-4ae226e285fb>\u001b[0m in \u001b[0;36mnonlocal_kernel_sim\u001b[0;34m(self, kernel)\u001b[0m\n\u001b[1;32m     65\u001b[0m         \u001b[0;31m# some arrays for storing velocity and acceleration\u001b[0m\u001b[0;34m\u001b[0m\u001b[0;34m\u001b[0m\u001b[0m\n\u001b[1;32m     66\u001b[0m \u001b[0;34m\u001b[0m\u001b[0m\n\u001b[0;32m---> 67\u001b[0;31m         \u001b[0mdiffusion_iteration\u001b[0m\u001b[0;34m(\u001b[0m\u001b[0mu\u001b[0m\u001b[0;34m,\u001b[0m\u001b[0mkernel0\u001b[0m\u001b[0;34m,\u001b[0m\u001b[0mkernel\u001b[0m\u001b[0;34m,\u001b[0m\u001b[0mE\u001b[0m\u001b[0;34m,\u001b[0m\u001b[0mrho\u001b[0m\u001b[0;34m,\u001b[0m\u001b[0mt\u001b[0m\u001b[0;34m,\u001b[0m\u001b[0mdt\u001b[0m\u001b[0;34m,\u001b[0m\u001b[0mloadfunc\u001b[0m\u001b[0;34m)\u001b[0m\u001b[0;34m\u001b[0m\u001b[0m\n\u001b[0m\u001b[1;32m     68\u001b[0m \u001b[0;34m\u001b[0m\u001b[0m\n\u001b[1;32m     69\u001b[0m \u001b[0;34m\u001b[0m\u001b[0m\n",
      "\u001b[0;32m~/anaconda3/lib/python3.6/site-packages/numba/dispatcher.py\u001b[0m in \u001b[0;36m_compile_for_args\u001b[0;34m(self, *args, **kws)\u001b[0m\n\u001b[1;32m    342\u001b[0m                 \u001b[0;32mraise\u001b[0m \u001b[0me\u001b[0m\u001b[0;34m\u001b[0m\u001b[0m\n\u001b[1;32m    343\u001b[0m             \u001b[0;32melse\u001b[0m\u001b[0;34m:\u001b[0m\u001b[0;34m\u001b[0m\u001b[0m\n\u001b[0;32m--> 344\u001b[0;31m                 \u001b[0mreraise\u001b[0m\u001b[0;34m(\u001b[0m\u001b[0mtype\u001b[0m\u001b[0;34m(\u001b[0m\u001b[0me\u001b[0m\u001b[0;34m)\u001b[0m\u001b[0;34m,\u001b[0m \u001b[0me\u001b[0m\u001b[0;34m,\u001b[0m \u001b[0;32mNone\u001b[0m\u001b[0;34m)\u001b[0m\u001b[0;34m\u001b[0m\u001b[0m\n\u001b[0m\u001b[1;32m    345\u001b[0m         \u001b[0;32mexcept\u001b[0m \u001b[0merrors\u001b[0m\u001b[0;34m.\u001b[0m\u001b[0mUnsupportedError\u001b[0m \u001b[0;32mas\u001b[0m \u001b[0me\u001b[0m\u001b[0;34m:\u001b[0m\u001b[0;34m\u001b[0m\u001b[0m\n\u001b[1;32m    346\u001b[0m             \u001b[0;31m# Something unsupported is present in the user code, add help info\u001b[0m\u001b[0;34m\u001b[0m\u001b[0;34m\u001b[0m\u001b[0m\n",
      "\u001b[0;32m~/anaconda3/lib/python3.6/site-packages/numba/six.py\u001b[0m in \u001b[0;36mreraise\u001b[0;34m(tp, value, tb)\u001b[0m\n\u001b[1;32m    656\u001b[0m             \u001b[0mvalue\u001b[0m \u001b[0;34m=\u001b[0m \u001b[0mtp\u001b[0m\u001b[0;34m(\u001b[0m\u001b[0;34m)\u001b[0m\u001b[0;34m\u001b[0m\u001b[0m\n\u001b[1;32m    657\u001b[0m         \u001b[0;32mif\u001b[0m \u001b[0mvalue\u001b[0m\u001b[0;34m.\u001b[0m\u001b[0m__traceback__\u001b[0m \u001b[0;32mis\u001b[0m \u001b[0;32mnot\u001b[0m \u001b[0mtb\u001b[0m\u001b[0;34m:\u001b[0m\u001b[0;34m\u001b[0m\u001b[0m\n\u001b[0;32m--> 658\u001b[0;31m             \u001b[0;32mraise\u001b[0m \u001b[0mvalue\u001b[0m\u001b[0;34m.\u001b[0m\u001b[0mwith_traceback\u001b[0m\u001b[0;34m(\u001b[0m\u001b[0mtb\u001b[0m\u001b[0;34m)\u001b[0m\u001b[0;34m\u001b[0m\u001b[0m\n\u001b[0m\u001b[1;32m    659\u001b[0m         \u001b[0;32mraise\u001b[0m \u001b[0mvalue\u001b[0m\u001b[0;34m\u001b[0m\u001b[0m\n\u001b[1;32m    660\u001b[0m \u001b[0;34m\u001b[0m\u001b[0m\n",
      "\u001b[0;31mTypingError\u001b[0m: Failed at nopython (nopython frontend)\nInternal error at <numba.typeinfer.ArgConstraint object at 0x6127f0c18>:\n--%<----------------------------------------------------------------------------\nTraceback (most recent call last):\n  File \"/Users/xiao/anaconda3/lib/python3.6/site-packages/numba/errors.py\", line 491, in new_error_context\n    yield\n  File \"/Users/xiao/anaconda3/lib/python3.6/site-packages/numba/typeinfer.py\", line 194, in __call__\n    assert ty.is_precise()\nAssertionError\n\nDuring handling of the above exception, another exception occurred:\n\nTraceback (most recent call last):\n  File \"/Users/xiao/anaconda3/lib/python3.6/site-packages/numba/typeinfer.py\", line 138, in propagate\n    constraint(typeinfer)\n  File \"/Users/xiao/anaconda3/lib/python3.6/site-packages/numba/typeinfer.py\", line 195, in __call__\n    typeinfer.add_type(self.dst, ty, loc=self.loc)\n  File \"/Users/xiao/anaconda3/lib/python3.6/contextlib.py\", line 99, in __exit__\n    self.gen.throw(type, value, traceback)\n  File \"/Users/xiao/anaconda3/lib/python3.6/site-packages/numba/errors.py\", line 499, in new_error_context\n    six.reraise(type(newerr), newerr, tb)\n  File \"/Users/xiao/anaconda3/lib/python3.6/site-packages/numba/six.py\", line 659, in reraise\n    raise value\nnumba.errors.InternalError: \u001b[33m\u001b[1m\u001b[33m\u001b[1m\u001b[0m\n\u001b[0m\u001b[37m\u001b[1m[1] During: typing of argument at <ipython-input-2-4ae226e285fb> (4)\u001b[0m\n--%<----------------------------------------------------------------------------\n\n\u001b[37m\u001b[1m\nFile \"<ipython-input-2-4ae226e285fb>\", line 4:\u001b[0m\n\u001b[34m\u001b[1mdef diffusion_iteration(u,kernel0,kernel,E,rho,t,dt,loadfunc):\n    <source elided>\n    \n\u001b[31m\u001b[1m    N, Tsteps = u.shape\n\u001b[0m    \u001b[32m\u001b[1m^\u001b[0m\u001b[0m\n\nThis error may have been caused by the following argument(s):\n- argument 7: \u001b[33m\u001b[1mcannot determine Numba type of <class 'function'>\u001b[0m\n\nThis is not usually a problem with Numba itself but instead often caused by\nthe use of unsupported features or an issue in resolving types.\n\nTo see Python/NumPy features supported by the latest release of Numba visit:\nhttp://numba.pydata.org/numba-doc/dev/reference/pysupported.html\nand\nhttp://numba.pydata.org/numba-doc/dev/reference/numpysupported.html\n\nFor more information about typing errors and how to debug them visit:\nhttp://numba.pydata.org/numba-doc/latest/user/troubleshoot.html#my-code-doesn-t-compile\n\nIf you think your code should work with Numba, please report the error message\nand traceback, along with a minimal reproducer at:\nhttps://github.com/numba/numba/issues/new\n"
     ]
    }
   ],
   "source": [
    "mytest.nonlocal_kernel_sim(kernel)"
   ]
  },
  {
   "cell_type": "code",
   "execution_count": null,
   "metadata": {},
   "outputs": [],
   "source": []
  }
 ],
 "metadata": {
  "kernelspec": {
   "display_name": "Python 3",
   "language": "python",
   "name": "python3"
  },
  "language_info": {
   "codemirror_mode": {
    "name": "ipython",
    "version": 3
   },
   "file_extension": ".py",
   "mimetype": "text/x-python",
   "name": "python",
   "nbconvert_exporter": "python",
   "pygments_lexer": "ipython3",
   "version": "3.6.5"
  }
 },
 "nbformat": 4,
 "nbformat_minor": 2
}
