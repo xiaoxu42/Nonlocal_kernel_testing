{
 "cells": [
  {
   "cell_type": "code",
   "execution_count": 2,
   "metadata": {},
   "outputs": [],
   "source": [
    "import numpy as np\n",
    "import cffi\n",
    "try:\n",
    "    from explicit_time_api import ffi, lib\n",
    "except ImportError:\n",
    "    print(\"Error importing lib\")\n",
    "    pass"
   ]
  },
  {
   "cell_type": "code",
   "execution_count": 3,
   "metadata": {},
   "outputs": [],
   "source": [
    "class simulator_1D():\n",
    "    \n",
    "    def __init__(self,E,rho,loadfunc,Ttotal,dt,Nnodes):\n",
    "        self.E = E\n",
    "        self.rho = rho\n",
    "        self.loadfunc = loadfunc\n",
    "        self.Ttotal = Ttotal\n",
    "        self.dt = dt\n",
    "        self.Nnodes = Nnodes\n",
    "        \n",
    "        \n",
    "    def nonlocal_kernel_sim(self,kernel):\n",
    "    \n",
    "        # This is the function that use the given nonlocal kernel and the given material properties and the displacement\n",
    "        # BC to do a simulation on 1-D elastic dynamic equation\n",
    "        \n",
    "        E = self.E\n",
    "        rho = self.rho\n",
    "        loadfunc = self.loadfunc\n",
    "        Ttotal = self.Ttotal\n",
    "        dt = self.dt\n",
    "        Nnodes = self.Nnodes\n",
    "    \n",
    "        horizon = np.size(kernel)\n",
    "        self.horizon = horizon\n",
    "        kernel0 = 2*np.sum(kernel) # for symmetric kernel only\n",
    "        Tsteps = int(Ttotal/dt)\n",
    "        N = Nnodes+2*horizon # add some nodes at the boundaries for nonlocal BCs\n",
    "        self.nonlocal_N = N\n",
    "        u = np.zeros((N,Tsteps))\n",
    "        t = np.linspace(0,Ttotal,Tsteps+1)\n",
    "        self.t = t\n",
    "\n",
    "        \n",
    "        # Use the CFFI to import the C code to do the simulation for all time steps by explicit time discretization \n",
    "        lib.explicit_time(ffi.cast(\"double *\", ffi.from_buffer(u)), N, Tsteps, kernel0, ffi.cast(\"double *\", ffi.from_buffer(kernel)), horizon, E ,rho, dt, ffi.cast(\"double *\", ffi.from_buffer(loadfunc)))\n",
    "         \n",
    "    \n",
    "        return u\n",
    "    \n",
    "    def nonlocal_kernel_middisplacement(self,kernel):\n",
    "        \n",
    "        # This function returns only the displacement at the midpoint of the rod\n",
    "        \n",
    "        u = self.nonlocal_kernel_sim(kernel)\n",
    "        umid = (u[int(self.nonlocal_N/2),:]+u[int(self.nonlocal_N/2-1),:])/2\n",
    "        \n",
    "        return umid\n",
    "        \n",
    "    "
   ]
  }
 ],
 "metadata": {
  "kernelspec": {
   "display_name": "Python 3",
   "language": "python",
   "name": "python3"
  },
  "language_info": {
   "codemirror_mode": {
    "name": "ipython",
    "version": 3
   },
   "file_extension": ".py",
   "mimetype": "text/x-python",
   "name": "python",
   "nbconvert_exporter": "python",
   "pygments_lexer": "ipython3",
   "version": "3.6.5"
  }
 },
 "nbformat": 4,
 "nbformat_minor": 2
}
